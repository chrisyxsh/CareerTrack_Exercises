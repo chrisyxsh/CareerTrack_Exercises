{
 "cells": [
  {
   "cell_type": "markdown",
   "metadata": {},
   "source": [
    "# What is the True Normal Human Body Temperature? \n",
    "\n",
    "#### Background\n",
    "\n",
    "The mean normal body temperature was held to be 37$^{\\circ}$C or 98.6$^{\\circ}$F for more than 120 years since it was first conceptualized and reported by Carl Wunderlich in a famous 1868 book. But, is this value statistically correct?"
   ]
  },
  {
   "cell_type": "markdown",
   "metadata": {},
   "source": [
    "<h3>Exercises</h3>\n",
    "\n",
    "<p>In this exercise, you will analyze a dataset of human body temperatures and employ the concepts of hypothesis testing, confidence intervals, and statistical significance.</p>\n",
    "\n",
    "<p>Answer the following questions <b>in this notebook below and submit to your Github account</b>.</p> \n",
    "\n",
    "<ol>\n",
    "<li>  Is the distribution of body temperatures normal? \n",
    "    <ul>\n",
    "    <li> Although this is not a requirement for the Central Limit Theorem to hold (read the introduction on Wikipedia's page about the CLT carefully: https://en.wikipedia.org/wiki/Central_limit_theorem), it gives us some peace of mind that the population may also be normally distributed if we assume that this sample is representative of the population.\n",
    "    <li> Think about the way you're going to check for the normality of the distribution. Graphical methods are usually used first, but there are also other ways: https://en.wikipedia.org/wiki/Normality_test\n",
    "    </ul>\n",
    "<li>  Is the sample size large? Are the observations independent?\n",
    "    <ul>\n",
    "    <li> Remember that this is a condition for the Central Limit Theorem, and hence the statistical tests we are using, to apply.\n",
    "    </ul>\n",
    "<li>  Is the true population mean really 98.6 degrees F?\n",
    "    <ul>\n",
    "    <li> First, try a bootstrap hypothesis test.\n",
    "    <li> Now, let's try frequentist statistical testing. Would you use a one-sample or two-sample test? Why?\n",
    "    <li> In this situation, is it appropriate to use the $t$ or $z$ statistic? \n",
    "    <li> Now try using the other test. How is the result be different? Why?\n",
    "    </ul>\n",
    "<li>  Draw a small sample of size 10 from the data and repeat both frequentist tests. \n",
    "    <ul>\n",
    "    <li> Which one is the correct one to use? \n",
    "    <li> What do you notice? What does this tell you about the difference in application of the $t$ and $z$ statistic?\n",
    "    </ul>\n",
    "<li>  At what temperature should we consider someone's temperature to be \"abnormal\"?\n",
    "    <ul>\n",
    "    <li> As in the previous example, try calculating everything using the boostrap approach, as well as the frequentist approach.\n",
    "    <li> Start by computing the margin of error and confidence interval. When calculating the confidence interval, keep in mind that you should use the appropriate formula for one draw, and not N draws.\n",
    "    </ul>\n",
    "<li>  Is there a significant difference between males and females in normal temperature?\n",
    "    <ul>\n",
    "    <li> What testing approach did you use and why?\n",
    "    <li> Write a story with your conclusion in the context of the original problem.\n",
    "    </ul>\n",
    "</ol>\n",
    "\n",
    "You can include written notes in notebook cells using Markdown: \n",
    "   - In the control panel at the top, choose Cell > Cell Type > Markdown\n",
    "   - Markdown syntax: http://nestacms.com/docs/creating-content/markdown-cheat-sheet\n",
    "\n",
    "#### Resources\n",
    "\n",
    "+ Information and data sources: http://www.amstat.org/publications/jse/datasets/normtemp.txt, http://www.amstat.org/publications/jse/jse_data_archive.htm\n",
    "+ Markdown syntax: http://nestacms.com/docs/creating-content/markdown-cheat-sheet\n",
    "\n",
    "****"
   ]
  },
  {
   "cell_type": "code",
   "execution_count": 3,
   "metadata": {},
   "outputs": [],
   "source": [
    "import pandas as pd\n",
    "\n",
    "df = pd.read_csv('data/human_body_temperature.csv')"
   ]
  },
  {
   "cell_type": "code",
   "execution_count": 4,
   "metadata": {},
   "outputs": [],
   "source": [
    "import matplotlib.pyplot as plt\n",
    "import seaborn as sns\n",
    "import numpy as np\n",
    "\n",
    "def ecdf(data) :\n",
    "    n = len(data)\n",
    "    x = np.sort(data)\n",
    "    y = np.arange(1,n+1)/n\n",
    "    return x,y"
   ]
  },
  {
   "cell_type": "code",
   "execution_count": 5,
   "metadata": {},
   "outputs": [
    {
     "data": {
      "text/html": [
       "<div>\n",
       "<style scoped>\n",
       "    .dataframe tbody tr th:only-of-type {\n",
       "        vertical-align: middle;\n",
       "    }\n",
       "\n",
       "    .dataframe tbody tr th {\n",
       "        vertical-align: top;\n",
       "    }\n",
       "\n",
       "    .dataframe thead th {\n",
       "        text-align: right;\n",
       "    }\n",
       "</style>\n",
       "<table border=\"1\" class=\"dataframe\">\n",
       "  <thead>\n",
       "    <tr style=\"text-align: right;\">\n",
       "      <th></th>\n",
       "      <th>temperature</th>\n",
       "      <th>gender</th>\n",
       "      <th>heart_rate</th>\n",
       "    </tr>\n",
       "  </thead>\n",
       "  <tbody>\n",
       "    <tr>\n",
       "      <th>0</th>\n",
       "      <td>99.3</td>\n",
       "      <td>F</td>\n",
       "      <td>68.0</td>\n",
       "    </tr>\n",
       "    <tr>\n",
       "      <th>1</th>\n",
       "      <td>98.4</td>\n",
       "      <td>F</td>\n",
       "      <td>81.0</td>\n",
       "    </tr>\n",
       "    <tr>\n",
       "      <th>2</th>\n",
       "      <td>97.8</td>\n",
       "      <td>M</td>\n",
       "      <td>73.0</td>\n",
       "    </tr>\n",
       "    <tr>\n",
       "      <th>3</th>\n",
       "      <td>99.2</td>\n",
       "      <td>F</td>\n",
       "      <td>66.0</td>\n",
       "    </tr>\n",
       "    <tr>\n",
       "      <th>4</th>\n",
       "      <td>98.0</td>\n",
       "      <td>F</td>\n",
       "      <td>73.0</td>\n",
       "    </tr>\n",
       "  </tbody>\n",
       "</table>\n",
       "</div>"
      ],
      "text/plain": [
       "   temperature gender  heart_rate\n",
       "0         99.3      F        68.0\n",
       "1         98.4      F        81.0\n",
       "2         97.8      M        73.0\n",
       "3         99.2      F        66.0\n",
       "4         98.0      F        73.0"
      ]
     },
     "execution_count": 5,
     "metadata": {},
     "output_type": "execute_result"
    }
   ],
   "source": [
    "df.head()"
   ]
  },
  {
   "cell_type": "markdown",
   "metadata": {},
   "source": [
    "## Answers\n",
    "### Question I - Is the distribution of body temperatures normal?\n",
    "#### Normality test - Graphical methods Test\n",
    "    1. Histogram Plot for Temperature"
   ]
  },
  {
   "cell_type": "code",
   "execution_count": 59,
   "metadata": {},
   "outputs": [
    {
     "data": {
      "image/png": "[encoded data removed]",
      "text/plain": [
       "<matplotlib.figure.Figure at 0x1a21a3ba58>"
      ]
     },
     "metadata": {},
     "output_type": "display_data"
    }
   ],
   "source": [
    "_ = plt.hist(df['temperature'],bins=10)\n",
    "plt.xlabel('Temperature')\n",
    "plt.ylabel('Number of People')\n",
    "plt.show()"
   ]
  },
  {
   "cell_type": "markdown",
   "metadata": {},
   "source": [
    "     The histogram plot showed below looks like half bell, we are not sure wheather it is or not a normal \n",
    "     distribution.\n",
    "        \n",
    "    2. Comparing CDF of observed data and theoretical sample data for Temperature "
   ]
  },
  {
   "cell_type": "code",
   "execution_count": 60,
   "metadata": {},
   "outputs": [
    {
     "data": {
      "image/png": "[encoded data removed]",
      "text/plain": [
       "<matplotlib.figure.Figure at 0x1a22d7b7f0>"
      ]
     },
     "metadata": {},
     "output_type": "display_data"
    }
   ],
   "source": [
    "temp = df.temperature.values\n",
    "temp_mean = np.mean(temp)\n",
    "temp_std = np.std(temp)\n",
    "temp_samples = np.random.normal(temp_mean,temp_std,size=10000)\n",
    "\n",
    "x,y = ecdf(temp)\n",
    "x_theor,y_theor = ecdf(temp_samples)\n",
    "\n",
    "sns.set()\n",
    "plt.plot(x_theor,y_theor)\n",
    "plt.plot(x,y,marker='.',linestyle='none')\n",
    "\n",
    "plt.xlabel('Temperature')\n",
    "plt.ylabel('CDF')\n",
    "\n",
    "plt.show()"
   ]
  },
  {
   "cell_type": "markdown",
   "metadata": {},
   "source": [
    "    From the plot above, we can see that observed data points near perfectly match the normal distribution line of theoretical sample data. We can say that the distribution of body temperature is a normal distribution.\n",
    "    \n",
    "### Question II - Is the sample size large? Are the observations independent?\n",
    "    1. The size of data set\n",
    "    "
   ]
  },
  {
   "cell_type": "code",
   "execution_count": 19,
   "metadata": {},
   "outputs": [
    {
     "name": "stdout",
     "output_type": "stream",
     "text": [
      "<class 'pandas.core.frame.DataFrame'>\n",
      "RangeIndex: 130 entries, 0 to 129\n",
      "Data columns (total 3 columns):\n",
      "temperature    130 non-null float64\n",
      "gender         130 non-null object\n",
      "heart_rate     130 non-null float64\n",
      "dtypes: float64(2), object(1)\n",
      "memory usage: 3.1+ KB\n"
     ]
    }
   ],
   "source": [
    "df.info()"
   ]
  },
  {
   "cell_type": "markdown",
   "metadata": {},
   "source": [
    "    From the report of info() function, we know the size of the data frame is 130 entries. It is big enough for using Z-test, but too bigger for using T-test.\n",
    "    \n",
    "    2. Independence of observations\n",
    "    There are three variables in this sample data set, 'temperature', 'gender' and 'heart_rate'. Values of those three variables are decided by each person. If there is not any common feature in the group of people such as some disease effecting body temperature and heart rate, then we can have a conclution that those observations are independent to each other.\n",
    "    \n",
    "### Question III - Is the true population mean really 98.6 degrees F?\n",
    "#### Bootstrap Hypothesis test\n",
    "##### Null Hypothesis - The true population mean is 98.6 degree F."
   ]
  },
  {
   "cell_type": "code",
   "execution_count": 62,
   "metadata": {},
   "outputs": [
    {
     "name": "stdout",
     "output_type": "stream",
     "text": [
      "Observed mean temperature: 98.24923076923075\n",
      "Difference between observed mean temperature with 98.6 degree F: -0.35076923076924515\n"
     ]
    }
   ],
   "source": [
    "def diff_from_986(data,true_mean=98.6):\n",
    "    return np.mean(data) - true_mean\n",
    "\n",
    "print(\"Observed mean temperature:\", temp_mean)\n",
    "diff_obs = diff_from_986(temp)\n",
    "print(\"Difference between observed mean temperature with 98.6 degree F:\",diff_obs)"
   ]
  },
  {
   "cell_type": "markdown",
   "metadata": {},
   "source": [
    "Here we use the mean of bootstrap sample minus the 98.6 degree F as the test statistic."
   ]
  },
  {
   "cell_type": "code",
   "execution_count": 116,
   "metadata": {},
   "outputs": [
    {
     "name": "stdout",
     "output_type": "stream",
     "text": [
      "P-value is: 0.0\n"
     ]
    }
   ],
   "source": [
    "def bootstrap_replicate_1d(data,func):\n",
    "        return func(np.random.choice(data,size=len(data)))\n",
    "    \n",
    "def draw_bs_reps(data, func, size=1):\n",
    "    bs_replicates = np.empty(size)\n",
    "    for i in range(size):\n",
    "        bs_replicates[i] = bootstrap_replicate_1d(data,func)\n",
    "    return bs_replicates\n",
    "\n",
    "temp_shifted = temp - np.mean(temp) + 98.6\n",
    "temp_bs_replicates = draw_bs_reps(temp_shifted,diff_from_986,10000)\n",
    "\n",
    "p_value = np.sum(temp_bs_replicates <= diff_obs)/10000\n",
    "print(\"P-value is:\",p_value)"
   ]
  },
  {
   "cell_type": "markdown",
   "metadata": {},
   "source": [
    "Because observed mean temperature is less than 98.6, so we caculate the probability of that the test statistic is less than the difference of observed mean with 98.6 degree F. The p-value result is zero, which just means the p-value is very very small, and if we have many enough bootstrap sample, we can have a value bigger than zero.\n",
    "\n",
    "The p-value is very small means the null hypothesis is rejected, then we can say that the true population mean from the sample is most likely not 98.6 degree F, or the sample for some particular reason is different from any 130 average sample with true population mean 98.6 degree F.\n",
    "\n",
    "#### One sample or two sample ?\n",
    "We will use one-sample test, because we just have one group body temperature data. If we want to do two-sample, we need two groups of observed data. \n",
    "#### Z-test or t-test ?\n",
    "Better sample size for using T-test is less than 30. It looks like we should use Z-test here. But using Z-test needs standard deviation of population. We don't have it now. We have to estimate a standard deviation of population if we want to use Z-test. \n",
    "\n",
    "#### T-test\n",
    "##### Null Hypothesis - The true population mean is 98.6 degree F."
   ]
  },
  {
   "cell_type": "code",
   "execution_count": 125,
   "metadata": {},
   "outputs": [
    {
     "name": "stdout",
     "output_type": "stream",
     "text": [
      "Standard Error of Mean: 0.06405661469519337\n",
      "t-value: -5.4759252020785585\n"
     ]
    }
   ],
   "source": [
    "sem = temp_std/len(temp)**0.5\n",
    "print(\"Standard Error of Mean:\",sem)\n",
    "t_value = (temp_mean-98.6)/sem\n",
    "print(\"t-value:\",t_value)"
   ]
  },
  {
   "cell_type": "markdown",
   "metadata": {},
   "source": [
    "On the T-table, we can choose to look at the line of 100 degrees of freedom. And from it, we know in area of one tail, if |t-value| >=2.364, then p-value <= 0.01. Our t-value's absolute value is near 5.476 and quite bigger than 2.364. Then We can reject the null hypothesis and have same conclution as that in bootstrap hypothesis test."
   ]
  },
  {
   "cell_type": "markdown",
   "metadata": {},
   "source": [
    "#### Z-test\n",
    "##### Null Hypothesis - The true population mean is 98.6 degree F.\n",
    "We can use the bootstrap replicates of the sample to caculate standard deviation as true population's. Then we can try Z-test."
   ]
  },
  {
   "cell_type": "code",
   "execution_count": 170,
   "metadata": {},
   "outputs": [
    {
     "name": "stdout",
     "output_type": "stream",
     "text": [
      "Standard Error of Mean: 0.063619487103003\n",
      "z_statistic: -5.5135501202852035\n"
     ]
    }
   ],
   "source": [
    "std_bs_replicates = draw_bs_reps(temp,np.std,10000)\n",
    "std_pop = np.mean(std_bs_replicates)\n",
    "sem_z = std_pop/len(temp)**0.5\n",
    "print(\"Standard Error of Mean:\",sem_z)\n",
    "z_statistic = (temp_mean-98.6)/sem_z\n",
    "print(\"z_statistic:\",z_statistic)"
   ]
  },
  {
   "cell_type": "markdown",
   "metadata": {},
   "source": [
    "The z_statistic is near -5.51. Check the standard normal(z) distribution table, we know that if a z statistic is lower -3.5 then the probability of result at least this extreme is lower than 0.0001. That's small enough to let us reject the null hypothesis. "
   ]
  },
  {
   "cell_type": "markdown",
   "metadata": {},
   "source": [
    "### Question IV - Draw a small sample of size 10 from the data and repeat both frequentist tests\n",
    "#### Small group of sample data with size equal 10.\n",
    "##### T-test\n",
    "###### Null Hypothesis - The true population mean is 98.6 degree F."
   ]
  },
  {
   "cell_type": "code",
   "execution_count": 128,
   "metadata": {},
   "outputs": [
    {
     "name": "stdout",
     "output_type": "stream",
     "text": [
      "Standard Error of Mean: 0.17821335527956333\n",
      "t-value: -1.5711504873512474\n"
     ]
    }
   ],
   "source": [
    "temp10 = np.random.choice(temp,size=10)\n",
    "sem10 = np.std(temp10)/len(temp10)**0.5\n",
    "print(\"Standard Error of Mean:\",sem10)\n",
    "t_value10 = (np.mean(temp10)-98.6)/sem10\n",
    "print(\"t-value:\",t_value10)"
   ]
  },
  {
   "cell_type": "markdown",
   "metadata": {},
   "source": [
    "The SEM of the samll size sample is near triple times of original sample, and T-value's absolute value is 1.571. We can look at the line with 9 degrees freedom on T-table, and find 1.833>1.571>1.383, which means that the p-value of this frequentist statistical test is between 0.05 and 0.10. The p-value let us cannot reject the null hypothesis."
   ]
  },
  {
   "cell_type": "markdown",
   "metadata": {},
   "source": [
    "#### Z-test\n",
    "##### Null Hypothesis - The true population mean is 98.6 degree F."
   ]
  },
  {
   "cell_type": "code",
   "execution_count": 172,
   "metadata": {},
   "outputs": [
    {
     "name": "stdout",
     "output_type": "stream",
     "text": [
      "Standard Error of Mean: 0.22938332286859725\n",
      "Z-statistic: -1.220664155085004\n"
     ]
    }
   ],
   "source": [
    "sem10_z = std_pop/len(temp10)**0.5\n",
    "print(\"Standard Error of Mean:\",sem10_z)\n",
    "z_statistic_10 = (np.mean(temp10)-98.6)/sem10_z\n",
    "print(\"Z-statistic:\",z_statistic_10)"
   ]
  },
  {
   "cell_type": "markdown",
   "metadata": {},
   "source": [
    "This time the Z-statistic is near -1.22, and after checking the standard normal(z) distribution table, we know the probability of result at least this extreme is 0.1112, which let us cannot reject the null hypothesis. "
   ]
  },
  {
   "cell_type": "markdown",
   "metadata": {},
   "source": [
    "#### Which is better for samll size sample?\n",
    "If we know the mean and standard deviation of population, and our sample size is larger than 30, then we should use Z-test. Ohterwise we should use T-test. For this case, our sample size is 10, then we'd better use T-test."
   ]
  },
  {
   "cell_type": "markdown",
   "metadata": {},
   "source": [
    "### Question V - At what temperature should we consider someone's temperature to be \"abnormal\"?\n"
   ]
  },
  {
   "cell_type": "markdown",
   "metadata": {},
   "source": [
    "As previous example, we will use small size which is 25 to simulate sample drawn 10000 times to calculate the 95% confidence interval of margin error and mean. Then we can have a confidence interval of normal body temperature, and then know at what temperature we consider someone's temperature to be \"abnormal\".\n",
    "\n",
    "Because we don't know the true mean and true standard deviation of population, so we will use t-value to caculate margin error. For 95% confidence interval and 24 degrees freedom, the critical t-value on the t distribution table is nearly 2.064."
   ]
  },
  {
   "cell_type": "code",
   "execution_count": 163,
   "metadata": {},
   "outputs": [],
   "source": [
    "def get_margin_95(data):\n",
    "    return 2.064*np.std(data)/len(data)**0.5\n",
    "\n",
    "def bootstrap_replicate_1d_25(data,func):\n",
    "        return func(np.random.choice(data,size=25))\n",
    "    \n",
    "def draw_bs_reps_25(data, func, size=1):\n",
    "    bs_replicates = np.empty(size)\n",
    "    for i in range(size):\n",
    "        bs_replicates[i] = bootstrap_replicate_1d_25(data,func)\n",
    "    return bs_replicates"
   ]
  },
  {
   "cell_type": "code",
   "execution_count": 164,
   "metadata": {},
   "outputs": [
    {
     "name": "stdout",
     "output_type": "stream",
     "text": [
      "Maximum Margin Error is  0.5014702827256662\n",
      "95% confidence interval of mean body temperature : [97.956 98.536]\n",
      "When body temperature is lower than  97.45452971727435  degree F, or higher than  99.03747028272566  degree F, it is abnormal.\n"
     ]
    }
   ],
   "source": [
    "mr_bs_replicates = draw_bs_reps_25(temp,get_margin_95,10000)\n",
    "max_mr = np.max(mr_bs_replicates)\n",
    "print(\"Maximum Margin Error is \",max_mr)\n",
    "bs_replicates = draw_bs_reps_25(temp,np.mean,10000)\n",
    "conf_intvl = np.percentile(bs_replicates,[2.5,97.5])\n",
    "print(\"95% confidence interval of mean body temperature :\",conf_intvl)\n",
    "print(\"When body temperature is lower than \",np.min(conf_intvl)-max_mr,\" degree F, or higher than \",np.max(conf_intvl)+max_mr,\" degree F, it is abnormal.\")"
   ]
  },
  {
   "cell_type": "markdown",
   "metadata": {},
   "source": [
    "### Question VI - Is there a significant difference between males and females in normal temperature?"
   ]
  },
  {
   "cell_type": "code",
   "execution_count": 167,
   "metadata": {},
   "outputs": [],
   "source": [
    "def normal_temp(data):\n",
    "    mr_bs_replicates = draw_bs_reps_25(data,get_margin_95,10000)\n",
    "    max_mr = np.max(mr_bs_replicates)\n",
    "    bs_replicates = draw_bs_reps_25(data,np.mean,10000)\n",
    "    conf_intvl = np.percentile(bs_replicates,[2.5,97.5])\n",
    "    return (np.min(conf_intvl)-max_mr,np.max(conf_intvl)+max_mr)"
   ]
  },
  {
   "cell_type": "code",
   "execution_count": 169,
   "metadata": {},
   "outputs": [
    {
     "name": "stdout",
     "output_type": "stream",
     "text": [
      "Male Normal Temperature Range:  97.39759071919599  -  98.80240928080404\n",
      "Female Normal Temperature Range:  97.59265025868613  -  99.19534974131385\n",
      "Female's lowest normal temperature is usually higher than male's by  0.19505953949014554  degree F\n",
      "Female's highest normal temperature is usually higher than male's by  0.3929404605098057  degree F\n"
     ]
    }
   ],
   "source": [
    "temp_male = df.temperature.values[df.gender == 'M']\n",
    "temp_female = df.temperature.values[df.gender == 'F']\n",
    "\n",
    "male_min,male_max = normal_temp(temp_male)\n",
    "female_min,female_max = normal_temp(temp_female)\n",
    "\n",
    "print(\"Male Normal Temperature Range: \",male_min,\" - \",male_max)\n",
    "print(\"Female Normal Temperature Range: \",female_min,\" - \",female_max)\n",
    "print(\"Female's lowest normal temperature is usually higher than male's by \",female_min-male_min,\" degree F\")\n",
    "print(\"Female's highest normal temperature is usually higher than male's by \",female_max-male_max,\" degree F\")\n"
   ]
  },
  {
   "cell_type": "markdown",
   "metadata": {},
   "source": [
    "From results calculated above, we know that female's lowest normal temperature is nearly 0.195 degree F higher than male's, and female's highest normal temperature is nearly 0.393 degree F higher than male's."
   ]
  },
  {
   "cell_type": "markdown",
   "metadata": {},
   "source": [
    "### Conclution"
   ]
  },
  {
   "cell_type": "markdown",
   "metadata": {},
   "source": [
    "In practical cases, we often face this sort of situation that we just have a few small size samples, and we don't know the true statistics of population such as mean and standard deviation. Using bootstrap methods can be helpful to simulate randomly drawing samples, thus we can use those replicates and statistical inference methods such as T-test to calculate some important test statistics' distributions which are closer to true statistics of population.\n",
    "\n",
    "In addition, sample drawing bias is a quite critical issue. Like this 130 body temperature sample, it obviously has some bias on drawing lower body temperature samples under 98.6 F is the true mean of population on body temperature. More randomly sample may help adjust some potential bias. "
   ]
  },
  {
   "cell_type": "code",
   "execution_count": null,
   "metadata": {},
   "outputs": [],
   "source": []
  }
 ],
 "metadata": {
  "kernelspec": {
   "display_name": "Python 3",
   "language": "python",
   "name": "python3"
  },
  "language_info": {
   "codemirror_mode": {
    "name": "ipython",
    "version": 3
   },
   "file_extension": ".py",
   "mimetype": "text/x-python",
   "name": "python",
   "nbconvert_exporter": "python",
   "pygments_lexer": "ipython3",
   "version": "3.6.4"
  }
 },
 "nbformat": 4,
 "nbformat_minor": 1
}
