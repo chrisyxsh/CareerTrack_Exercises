{
 "cells": [
  {
   "cell_type": "code",
   "execution_count": 412,
   "metadata": {},
   "outputs": [],
   "source": [
    "import pandas as pd\n",
    "import numpy as np\n",
    "import matplotlib.pyplot as plt\n",
    "import matplotlib.dates as mdates\n",
    "import sklearn\n",
    "import json\n",
    "import datetime\n",
    "import keras\n",
    "from sklearn.metrics import confusion_matrix\n",
    "from sklearn.metrics import classification_report\n",
    "from sklearn.metrics import f1_score"
   ]
  },
  {
   "cell_type": "markdown",
   "metadata": {},
   "source": [
    "# Part 1 - Exploratory data analysis"
   ]
  },
  {
   "cell_type": "code",
   "execution_count": 157,
   "metadata": {},
   "outputs": [],
   "source": [
    "def cre_login_count(login_time):\n",
    "    login_time_ordered = login_time.sort_values(ascending=True)\n",
    "    end_time_15min = None\n",
    "    login_count = []\n",
    "    before_time = []\n",
    "    count = 0\n",
    "    #print_cnt = 0\n",
    "    login_counts = pd.DataFrame()\n",
    "    for idx, time in login_time_ordered.items():\n",
    "        d_time = pd.to_datetime(time)\n",
    "        if end_time_15min is None:\n",
    "            end_time_15min = d_time + pd.Timedelta(15,'m')\n",
    "            #print('ending time:', end_time_15min)\n",
    "        if d_time < end_time_15min:\n",
    "            count += 1\n",
    "        else:\n",
    "            login_count.append(count)\n",
    "            before_time.append(end_time_15min)\n",
    "            count = 1\n",
    "            end_time_15min += pd.Timedelta(15,'m')\n",
    "    login_count.append(count)\n",
    "    before_time.append(end_time_15min)\n",
    "    login_counts['login_count'] = pd.Series(login_count)\n",
    "    login_counts['before_time'] = pd.Series(before_time)\n",
    "    return login_counts\n",
    "\n",
    "def get_peak(daily_count):\n",
    "    last_count = None\n",
    "    next_count = None\n",
    "    cur_count = None\n",
    "    last_idx = None\n",
    "    cur_idx = None\n",
    "    next_idx = None\n",
    "    count_peak = {}\n",
    "    n=0\n",
    "    for idx, count in daily_count.items():\n",
    "        n += 1\n",
    "        if n == 1:\n",
    "            last_count = count\n",
    "            last_idx = idx\n",
    "        if n == 2:\n",
    "            cur_count = count\n",
    "            cur_idx = idx\n",
    "        if n == 3:\n",
    "            next_count = count\n",
    "            next_idx = idx\n",
    "        if n > 3:\n",
    "            if (last_count < cur_count) and (next_count <= cur_count):\n",
    "                count_peak[cur_idx] = cur_count\n",
    "            last_count = cur_count\n",
    "            cur_count = next_count\n",
    "            next_count = count\n",
    "            last_idx = cur_idx\n",
    "            cur_idx = next_idx\n",
    "            next_idx = idx\n",
    "    if (last_count < cur_count) and (next_count <= cur_count):\n",
    "        count_peak[cur_idx] = cur_count        \n",
    "    return pd.Series(count_peak)\n",
    "\n",
    "def annotate(x,y,ax):\n",
    "    for i in range(len(x)):\n",
    "        ax1.annotate(str(x[i]), (x[i], y[i]), xytext=(x[i], y[i]+15), \n",
    "            textcoords='data') "
   ]
  },
  {
   "cell_type": "code",
   "execution_count": 2,
   "metadata": {},
   "outputs": [],
   "source": [
    "logins_df = pd.read_json('data/logins.json')   "
   ]
  },
  {
   "cell_type": "code",
   "execution_count": 3,
   "metadata": {},
   "outputs": [
    {
     "data": {
      "text/html": [
       "<div>\n",
       "<style scoped>\n",
       "    .dataframe tbody tr th:only-of-type {\n",
       "        vertical-align: middle;\n",
       "    }\n",
       "\n",
       "    .dataframe tbody tr th {\n",
       "        vertical-align: top;\n",
       "    }\n",
       "\n",
       "    .dataframe thead th {\n",
       "        text-align: right;\n",
       "    }\n",
       "</style>\n",
       "<table border=\"1\" class=\"dataframe\">\n",
       "  <thead>\n",
       "    <tr style=\"text-align: right;\">\n",
       "      <th></th>\n",
       "      <th>login_time</th>\n",
       "    </tr>\n",
       "  </thead>\n",
       "  <tbody>\n",
       "    <tr>\n",
       "      <th>0</th>\n",
       "      <td>1970-01-01 20:13:18</td>\n",
       "    </tr>\n",
       "    <tr>\n",
       "      <th>1</th>\n",
       "      <td>1970-01-01 20:16:10</td>\n",
       "    </tr>\n",
       "    <tr>\n",
       "      <th>2</th>\n",
       "      <td>1970-01-01 20:16:37</td>\n",
       "    </tr>\n",
       "    <tr>\n",
       "      <th>3</th>\n",
       "      <td>1970-01-01 20:16:36</td>\n",
       "    </tr>\n",
       "    <tr>\n",
       "      <th>4</th>\n",
       "      <td>1970-01-01 20:26:21</td>\n",
       "    </tr>\n",
       "  </tbody>\n",
       "</table>\n",
       "</div>"
      ],
      "text/plain": [
       "           login_time\n",
       "0 1970-01-01 20:13:18\n",
       "1 1970-01-01 20:16:10\n",
       "2 1970-01-01 20:16:37\n",
       "3 1970-01-01 20:16:36\n",
       "4 1970-01-01 20:26:21"
      ]
     },
     "execution_count": 3,
     "metadata": {},
     "output_type": "execute_result"
    }
   ],
   "source": [
    "logins_df.head()"
   ]
  },
  {
   "cell_type": "code",
   "execution_count": 46,
   "metadata": {},
   "outputs": [],
   "source": [
    "login_counts = cre_login_count(logins_df.login_time)"
   ]
  },
  {
   "cell_type": "code",
   "execution_count": 62,
   "metadata": {},
   "outputs": [
    {
     "data": {
      "text/plain": [
       "Text(0,0.5,'Login Count')"
      ]
     },
     "execution_count": 62,
     "metadata": {},
     "output_type": "execute_result"
    },
    {
     "data": {
      "image/png": "[encoded data removed]",
      "text/plain": [
       "<matplotlib.figure.Figure at 0x151d95d278>"
      ]
     },
     "metadata": {},
     "output_type": "display_data"
    }
   ],
   "source": [
    "fig1, ax1 = plt.subplots(figsize=(16,10))\n",
    "ax1.plot(login_counts.before_time,login_counts.login_count, marker='.',linestyle='')\n",
    "ax1.set_xlabel('Counting End Time')\n",
    "ax1.set_ylabel('Login Count')"
   ]
  },
  {
   "cell_type": "code",
   "execution_count": 74,
   "metadata": {},
   "outputs": [],
   "source": [
    "login_counts['date'] = login_counts.before_time.apply(pd.Timestamp.date)\n",
    "daily_count = login_counts.groupby(['date'])['login_count'].agg('sum').reset_index()\n",
    "count_peak = get_peak(daily_count.login_count)\n",
    "peak_date = daily_count.date[count_peak.index].values"
   ]
  },
  {
   "cell_type": "code",
   "execution_count": 156,
   "metadata": {},
   "outputs": [
    {
     "data": {
      "image/png": "[encoded data removed]",
      "text/plain": [
       "<matplotlib.figure.Figure at 0x152516e668>"
      ]
     },
     "metadata": {},
     "output_type": "display_data"
    }
   ],
   "source": [
    "fig1, ax1 = plt.subplots(figsize=(16,10))\n",
    "ax1.plot(daily_count.date,daily_count.login_count)\n",
    "ax1.set_xlabel('Counting End Time')\n",
    "ax1.set_ylabel('Login Count')\n",
    "annotate(peak_date,count_peak.values,ax1)"
   ]
  },
  {
   "cell_type": "markdown",
   "metadata": {},
   "source": [
    "It looks like, from 1970-01-03, that there are login peak for near each 7 days."
   ]
  },
  {
   "cell_type": "markdown",
   "metadata": {},
   "source": [
    "# Part 2 ‐ Experiment and metrics design"
   ]
  },
  {
   "cell_type": "code",
   "execution_count": 177,
   "metadata": {},
   "outputs": [],
   "source": [
    "def permutation_sample(data1, data2):   \n",
    "    data = np.concatenate((data1, data2))\n",
    "    permuted_data = np.random.permutation(data)\n",
    "    perm_sample_1 = permuted_data[:len(data1)]\n",
    "    perm_sample_2 = permuted_data[len(data1):]\n",
    "\n",
    "    return perm_sample_1, perm_sample_2\n",
    "\n",
    "def draw_perm_reps(data_1, data_2, func, size=1):\n",
    "    perm_replicates = np.empty(size)\n",
    "    for i in range(size):\n",
    "        perm_sample_1, perm_sample_2 = permutation_sample(data_1,data_2)\n",
    "        # Compute the test statistic\n",
    "        perm_replicates[i] = func(perm_sample_1,perm_sample_2)\n",
    "    return perm_replicates\n",
    "\n",
    "def diff_frac(data1,data2):\n",
    "    frac1 = np.sum(data1)/len(data1)\n",
    "    frac2 = np.sum(data2)/len(data2)\n",
    "    return frac2 - frac1\n",
    "\n",
    "def cal_pvalue(data1,data2,stats_func,size=1):\n",
    "    diff_obs = stats_func(data1,data2)\n",
    "    #print('diff_obs:',diff_obs)\n",
    "    perm_replicates = draw_perm_reps(data1,data2,stats_func,size)\n",
    "    p_value = np.sum(perm_replicates >= diff_obs)/len(perm_replicates)\n",
    "    return p_value"
   ]
  },
  {
   "cell_type": "markdown",
   "metadata": {},
   "source": [
    "## Key measure\n",
    "### Metric 1\n",
    "At night on weekdays, observe the percentage of driver partners who go to Ultimate Gotham from Ultimate Metropolis;\n",
    "### Metric 2\n",
    "During the day on weekdays, observe the percentage of driver partners who go to Ultimate Metropolis from Ultimate Gotham;\n",
    "\n",
    "Because Ultimate Gotham is most active at night on weekdays, so we can observe the activity changing of driver partners in Ultimate Metropolis.  So, for the time of night on weekdays, the percentage of driver partners in Ultimate Metropolis, who drive to Ultimate Gotham, will be a good metric to see this changing. If the Metric 1 statistically increased, then that means the success of this experiment at night for driver partners in Metropolis.\n",
    "\n",
    "Because Ultimate Metropolis is most active during the day on weekdays, so for the time of day on weekdays, the percentage of driver partners in Ultimate Gotham, who drive to Ultimate Metropolis, will be a good metric to see the changing. If the Metric 2 statistically increased, then that means the success of this experiment during the day for driver partners in Gotham.\n",
    "\n",
    "We have no need to observe on weekends, because there is a reasonable activity in both cities. Suppose driver partners in each city don't have the motivation to go to another city.\n",
    "\n",
    "## A/B Test \n",
    "1. We will use the A/B test with the permutation method, under the null hypothesis: the experiment of reimbursing all toll costs for driver partners, doesn't bring any effect on the activity of driver partners in both two cities.\n",
    "\n",
    "2. Choose two groups driver partners from Metropolis, and we can call them M_A, M_B. We give M_B the papers of reimbursing all toll costs, but treat M_A as before without giving the right of reimbursing all toll costs.\n",
    "\n",
    "3. Choose two groups driver partners from Gotham, and we can call them G_A, G_B. We give G_B the papers of reimbursing all toll costs, but treat G_A as before without giving the right of reimbursing all toll costs.\n",
    "\n",
    "4. Within the experiment period, during each day on weekdays, we record all driver partners' activities of G_A and G_B. If a driver partner has ever driven to Metropolis, then we label the observation of this driver partner with 1, if never, then we label it with 0.\n",
    "\n",
    "5.  Within the experiment period,  at each night on weekdays, we record all driver partners' activities of M_A and M_B. If a driver partner has ever driven to Gotham, then we label the observation of this driver partner with 1, if never, then we label it with 0.\n",
    "\n",
    "6. After the experiment period, maybe 1 month or 2 months, we will have the four group data as data_M_A, data_M_B, data_G_A, data_G_B. \n",
    "\n",
    "7. We can use the below method to calculate the difference between data_M_A and data_M_B, for the percentage of data points with label 1.\n",
    "\n",
    "          Frag_M_B = sum(data_M_B) / len(data_M_B)                  \n",
    "          Frag_M_A = sum(data_M_A) / len(data_M_A) \n",
    "          diff_M = Frag_M_B - Frag_M_A\n",
    "\n",
    "8. Then we combine data_M_A and data_M_B together into data_M_AB, and randomly permutate them for as many times as we want, such as 100000 times. For each permutation i, within the permutated data_M_AB, we can get a  new data set perm_data_M_A[ i ] from the beginning to the length of data_M_A, and the perm_data_M_B[ i ]  with the left data points.\n",
    "\n",
    "9. We use perm_data_M_B minus perm_data_M_A, and get an array perm_Differ with 100000 elements. Then we calculate the percentage of the elements in perm_Differ, which are greater or equal with the diff_M. The percentage is also called p-value. If the p-value is small enough, such as smaller than 0.05, then we can reject the null hypothesis at night on weekdays for driver partners in Metropolis. That means the experiment is successful to encourage driver partners in Metropolis, to be available in Gotham at night on weekdays.\n",
    "\n",
    "10. Use the same process from step 7 to step 9, we can calculate the p-value with data_G_A and data_G_B.  If the p-value is small enough, such as smaller than 0.05, then we can reject the null hypothesis during the day on weekdays for driver partners in Gotham. That means the experiment is successful to encourage driver partners in Gotham, to be available in Metropolis during the day on weekdays.\n"
   ]
  },
  {
   "cell_type": "markdown",
   "metadata": {},
   "source": [
    "# Part 3 - Predictive modeling"
   ]
  },
  {
   "cell_type": "code",
   "execution_count": 340,
   "metadata": {},
   "outputs": [],
   "source": [
    "filename = 'data/ultimate_data_challenge.json'\n",
    "with open(filename) as ultimate_file:\n",
    "    dict_ultimate = json.load(ultimate_file)\n",
    "ultimate = pd.DataFrame(dict_ultimate)"
   ]
  },
  {
   "cell_type": "code",
   "execution_count": 341,
   "metadata": {},
   "outputs": [
    {
     "data": {
      "text/html": [
       "<div>\n",
       "<style scoped>\n",
       "    .dataframe tbody tr th:only-of-type {\n",
       "        vertical-align: middle;\n",
       "    }\n",
       "\n",
       "    .dataframe tbody tr th {\n",
       "        vertical-align: top;\n",
       "    }\n",
       "\n",
       "    .dataframe thead th {\n",
       "        text-align: right;\n",
       "    }\n",
       "</style>\n",
       "<table border=\"1\" class=\"dataframe\">\n",
       "  <thead>\n",
       "    <tr style=\"text-align: right;\">\n",
       "      <th></th>\n",
       "      <th>avg_dist</th>\n",
       "      <th>avg_rating_by_driver</th>\n",
       "      <th>avg_rating_of_driver</th>\n",
       "      <th>avg_surge</th>\n",
       "      <th>city</th>\n",
       "      <th>last_trip_date</th>\n",
       "      <th>phone</th>\n",
       "      <th>signup_date</th>\n",
       "      <th>surge_pct</th>\n",
       "      <th>trips_in_first_30_days</th>\n",
       "      <th>ultimate_black_user</th>\n",
       "      <th>weekday_pct</th>\n",
       "    </tr>\n",
       "  </thead>\n",
       "  <tbody>\n",
       "    <tr>\n",
       "      <th>0</th>\n",
       "      <td>3.67</td>\n",
       "      <td>5.0</td>\n",
       "      <td>4.7</td>\n",
       "      <td>1.10</td>\n",
       "      <td>King's Landing</td>\n",
       "      <td>2014-06-17</td>\n",
       "      <td>iPhone</td>\n",
       "      <td>2014-01-25</td>\n",
       "      <td>15.4</td>\n",
       "      <td>4</td>\n",
       "      <td>True</td>\n",
       "      <td>46.2</td>\n",
       "    </tr>\n",
       "    <tr>\n",
       "      <th>1</th>\n",
       "      <td>8.26</td>\n",
       "      <td>5.0</td>\n",
       "      <td>5.0</td>\n",
       "      <td>1.00</td>\n",
       "      <td>Astapor</td>\n",
       "      <td>2014-05-05</td>\n",
       "      <td>Android</td>\n",
       "      <td>2014-01-29</td>\n",
       "      <td>0.0</td>\n",
       "      <td>0</td>\n",
       "      <td>False</td>\n",
       "      <td>50.0</td>\n",
       "    </tr>\n",
       "    <tr>\n",
       "      <th>2</th>\n",
       "      <td>0.77</td>\n",
       "      <td>5.0</td>\n",
       "      <td>4.3</td>\n",
       "      <td>1.00</td>\n",
       "      <td>Astapor</td>\n",
       "      <td>2014-01-07</td>\n",
       "      <td>iPhone</td>\n",
       "      <td>2014-01-06</td>\n",
       "      <td>0.0</td>\n",
       "      <td>3</td>\n",
       "      <td>False</td>\n",
       "      <td>100.0</td>\n",
       "    </tr>\n",
       "    <tr>\n",
       "      <th>3</th>\n",
       "      <td>2.36</td>\n",
       "      <td>4.9</td>\n",
       "      <td>4.6</td>\n",
       "      <td>1.14</td>\n",
       "      <td>King's Landing</td>\n",
       "      <td>2014-06-29</td>\n",
       "      <td>iPhone</td>\n",
       "      <td>2014-01-10</td>\n",
       "      <td>20.0</td>\n",
       "      <td>9</td>\n",
       "      <td>True</td>\n",
       "      <td>80.0</td>\n",
       "    </tr>\n",
       "    <tr>\n",
       "      <th>4</th>\n",
       "      <td>3.13</td>\n",
       "      <td>4.9</td>\n",
       "      <td>4.4</td>\n",
       "      <td>1.19</td>\n",
       "      <td>Winterfell</td>\n",
       "      <td>2014-03-15</td>\n",
       "      <td>Android</td>\n",
       "      <td>2014-01-27</td>\n",
       "      <td>11.8</td>\n",
       "      <td>14</td>\n",
       "      <td>False</td>\n",
       "      <td>82.4</td>\n",
       "    </tr>\n",
       "  </tbody>\n",
       "</table>\n",
       "</div>"
      ],
      "text/plain": [
       "   avg_dist  avg_rating_by_driver  avg_rating_of_driver  avg_surge  \\\n",
       "0      3.67                   5.0                   4.7       1.10   \n",
       "1      8.26                   5.0                   5.0       1.00   \n",
       "2      0.77                   5.0                   4.3       1.00   \n",
       "3      2.36                   4.9                   4.6       1.14   \n",
       "4      3.13                   4.9                   4.4       1.19   \n",
       "\n",
       "             city last_trip_date    phone signup_date  surge_pct  \\\n",
       "0  King's Landing     2014-06-17   iPhone  2014-01-25       15.4   \n",
       "1         Astapor     2014-05-05  Android  2014-01-29        0.0   \n",
       "2         Astapor     2014-01-07   iPhone  2014-01-06        0.0   \n",
       "3  King's Landing     2014-06-29   iPhone  2014-01-10       20.0   \n",
       "4      Winterfell     2014-03-15  Android  2014-01-27       11.8   \n",
       "\n",
       "   trips_in_first_30_days  ultimate_black_user  weekday_pct  \n",
       "0                       4                 True         46.2  \n",
       "1                       0                False         50.0  \n",
       "2                       3                False        100.0  \n",
       "3                       9                 True         80.0  \n",
       "4                      14                False         82.4  "
      ]
     },
     "execution_count": 341,
     "metadata": {},
     "output_type": "execute_result"
    }
   ],
   "source": [
    "ultimate.head()"
   ]
  },
  {
   "cell_type": "markdown",
   "metadata": {},
   "source": [
    "## Fraction of the observed users retained"
   ]
  },
  {
   "cell_type": "code",
   "execution_count": 342,
   "metadata": {},
   "outputs": [
    {
     "data": {
      "text/plain": [
       "0.6922"
      ]
     },
     "execution_count": 342,
     "metadata": {},
     "output_type": "execute_result"
    }
   ],
   "source": [
    "sum(ultimate.trips_in_first_30_days >0)/ultimate.shape[0]"
   ]
  },
  {
   "cell_type": "markdown",
   "metadata": {},
   "source": [
    "There is 69.22% of the observed users were retained"
   ]
  },
  {
   "cell_type": "markdown",
   "metadata": {},
   "source": [
    "## Predictive Features Extraction"
   ]
  },
  {
   "cell_type": "code",
   "execution_count": 343,
   "metadata": {},
   "outputs": [
    {
     "data": {
      "text/html": [
       "<div>\n",
       "<style scoped>\n",
       "    .dataframe tbody tr th:only-of-type {\n",
       "        vertical-align: middle;\n",
       "    }\n",
       "\n",
       "    .dataframe tbody tr th {\n",
       "        vertical-align: top;\n",
       "    }\n",
       "\n",
       "    .dataframe thead th {\n",
       "        text-align: right;\n",
       "    }\n",
       "</style>\n",
       "<table border=\"1\" class=\"dataframe\">\n",
       "  <thead>\n",
       "    <tr style=\"text-align: right;\">\n",
       "      <th></th>\n",
       "      <th>avg_dist</th>\n",
       "      <th>avg_rating_by_driver</th>\n",
       "      <th>avg_rating_of_driver</th>\n",
       "      <th>avg_surge</th>\n",
       "      <th>surge_pct</th>\n",
       "      <th>trips_in_first_30_days</th>\n",
       "      <th>ultimate_black_user</th>\n",
       "      <th>weekday_pct</th>\n",
       "    </tr>\n",
       "  </thead>\n",
       "  <tbody>\n",
       "    <tr>\n",
       "      <th>avg_dist</th>\n",
       "      <td>1.000000</td>\n",
       "      <td>0.080540</td>\n",
       "      <td>0.034509</td>\n",
       "      <td>-0.081491</td>\n",
       "      <td>-0.104414</td>\n",
       "      <td>-0.136329</td>\n",
       "      <td>0.032310</td>\n",
       "      <td>0.101652</td>\n",
       "    </tr>\n",
       "    <tr>\n",
       "      <th>avg_rating_by_driver</th>\n",
       "      <td>0.080540</td>\n",
       "      <td>1.000000</td>\n",
       "      <td>0.123175</td>\n",
       "      <td>0.010597</td>\n",
       "      <td>0.020103</td>\n",
       "      <td>-0.039115</td>\n",
       "      <td>0.009343</td>\n",
       "      <td>0.020442</td>\n",
       "    </tr>\n",
       "    <tr>\n",
       "      <th>avg_rating_of_driver</th>\n",
       "      <td>0.034509</td>\n",
       "      <td>0.123175</td>\n",
       "      <td>1.000000</td>\n",
       "      <td>-0.026189</td>\n",
       "      <td>-0.003899</td>\n",
       "      <td>-0.011302</td>\n",
       "      <td>-0.002086</td>\n",
       "      <td>0.014630</td>\n",
       "    </tr>\n",
       "    <tr>\n",
       "      <th>avg_surge</th>\n",
       "      <td>-0.081491</td>\n",
       "      <td>0.010597</td>\n",
       "      <td>-0.026189</td>\n",
       "      <td>1.000000</td>\n",
       "      <td>0.793582</td>\n",
       "      <td>-0.001841</td>\n",
       "      <td>-0.078791</td>\n",
       "      <td>-0.110071</td>\n",
       "    </tr>\n",
       "    <tr>\n",
       "      <th>surge_pct</th>\n",
       "      <td>-0.104414</td>\n",
       "      <td>0.020103</td>\n",
       "      <td>-0.003899</td>\n",
       "      <td>0.793582</td>\n",
       "      <td>1.000000</td>\n",
       "      <td>0.005720</td>\n",
       "      <td>-0.106861</td>\n",
       "      <td>-0.144918</td>\n",
       "    </tr>\n",
       "    <tr>\n",
       "      <th>trips_in_first_30_days</th>\n",
       "      <td>-0.136329</td>\n",
       "      <td>-0.039115</td>\n",
       "      <td>-0.011302</td>\n",
       "      <td>-0.001841</td>\n",
       "      <td>0.005720</td>\n",
       "      <td>1.000000</td>\n",
       "      <td>0.112210</td>\n",
       "      <td>0.050388</td>\n",
       "    </tr>\n",
       "    <tr>\n",
       "      <th>ultimate_black_user</th>\n",
       "      <td>0.032310</td>\n",
       "      <td>0.009343</td>\n",
       "      <td>-0.002086</td>\n",
       "      <td>-0.078791</td>\n",
       "      <td>-0.106861</td>\n",
       "      <td>0.112210</td>\n",
       "      <td>1.000000</td>\n",
       "      <td>0.035998</td>\n",
       "    </tr>\n",
       "    <tr>\n",
       "      <th>weekday_pct</th>\n",
       "      <td>0.101652</td>\n",
       "      <td>0.020442</td>\n",
       "      <td>0.014630</td>\n",
       "      <td>-0.110071</td>\n",
       "      <td>-0.144918</td>\n",
       "      <td>0.050388</td>\n",
       "      <td>0.035998</td>\n",
       "      <td>1.000000</td>\n",
       "    </tr>\n",
       "  </tbody>\n",
       "</table>\n",
       "</div>"
      ],
      "text/plain": [
       "                        avg_dist  avg_rating_by_driver  avg_rating_of_driver  \\\n",
       "avg_dist                1.000000              0.080540              0.034509   \n",
       "avg_rating_by_driver    0.080540              1.000000              0.123175   \n",
       "avg_rating_of_driver    0.034509              0.123175              1.000000   \n",
       "avg_surge              -0.081491              0.010597             -0.026189   \n",
       "surge_pct              -0.104414              0.020103             -0.003899   \n",
       "trips_in_first_30_days -0.136329             -0.039115             -0.011302   \n",
       "ultimate_black_user     0.032310              0.009343             -0.002086   \n",
       "weekday_pct             0.101652              0.020442              0.014630   \n",
       "\n",
       "                        avg_surge  surge_pct  trips_in_first_30_days  \\\n",
       "avg_dist                -0.081491  -0.104414               -0.136329   \n",
       "avg_rating_by_driver     0.010597   0.020103               -0.039115   \n",
       "avg_rating_of_driver    -0.026189  -0.003899               -0.011302   \n",
       "avg_surge                1.000000   0.793582               -0.001841   \n",
       "surge_pct                0.793582   1.000000                0.005720   \n",
       "trips_in_first_30_days  -0.001841   0.005720                1.000000   \n",
       "ultimate_black_user     -0.078791  -0.106861                0.112210   \n",
       "weekday_pct             -0.110071  -0.144918                0.050388   \n",
       "\n",
       "                        ultimate_black_user  weekday_pct  \n",
       "avg_dist                           0.032310     0.101652  \n",
       "avg_rating_by_driver               0.009343     0.020442  \n",
       "avg_rating_of_driver              -0.002086     0.014630  \n",
       "avg_surge                         -0.078791    -0.110071  \n",
       "surge_pct                         -0.106861    -0.144918  \n",
       "trips_in_first_30_days             0.112210     0.050388  \n",
       "ultimate_black_user                1.000000     0.035998  \n",
       "weekday_pct                        0.035998     1.000000  "
      ]
     },
     "execution_count": 343,
     "metadata": {},
     "output_type": "execute_result"
    }
   ],
   "source": [
    "ultimate.corr()"
   ]
  },
  {
   "cell_type": "markdown",
   "metadata": {},
   "source": [
    "By the correlation above, We chose 'avg_dist', 'avg_rating_by_driver', 'avg_rating_of_driver', 'surge_pct', 'trips_in_first_30_days', 'ultimate_black_user' and 'weekday_pct' as predictive features. \n",
    "\n",
    "'avg_surge' has high correlation with ''surge_pct', and we need focus on the probability of user using the Ultimate app, so we don't need the 'avg_surge'.\n",
    "\n",
    "We will calculate number of days between 'signup_date' and 'last_trip_date' for each observation, and if the result is greater or equal 150 days, then we label it 1 as active in 5th month, otherwise we label it 0 as inactive. Then we can use those labels as target variable for training and test."
   ]
  },
  {
   "cell_type": "code",
   "execution_count": 344,
   "metadata": {},
   "outputs": [],
   "source": [
    "from sklearn.preprocessing import MinMaxScaler"
   ]
  },
  {
   "cell_type": "code",
   "execution_count": 380,
   "metadata": {},
   "outputs": [],
   "source": [
    "f_duration_by_last_trip = ultimate.last_trip_date.apply(pd.to_datetime)-ultimate.signup_date.apply(pd.to_datetime)\n",
    "f_duration_by_last_trip = f_duration_by_last_trip.apply(lambda x:x.days).values"
   ]
  },
  {
   "cell_type": "code",
   "execution_count": 381,
   "metadata": {},
   "outputs": [],
   "source": [
    "f_active_30 = (ultimate.trips_in_first_30_days >0)*1\n",
    "f_active_30 = f_active_30.values"
   ]
  },
  {
   "cell_type": "code",
   "execution_count": 382,
   "metadata": {},
   "outputs": [],
   "source": [
    "f_avg_dist = ultimate.avg_dist.values\n",
    "f_surge_pct = ultimate.surge_pct.values\n",
    "f_black = ultimate.ultimate_black_user.apply(lambda x:x*1).values\n",
    "f_weekday_pct = ultimate.weekday_pct.values\n",
    "f_avg_rating_of_driver = ultimate.avg_rating_of_driver.values\n",
    "f_avg_rating_by_driver = ultimate.avg_rating_by_driver.values"
   ]
  },
  {
   "cell_type": "code",
   "execution_count": 448,
   "metadata": {},
   "outputs": [],
   "source": [
    "X1 = np.column_stack((f_avg_dist, f_surge_pct, f_active_30,\n",
    "                           f_black, f_weekday_pct, f_avg_rating_by_driver,\n",
    "                           f_avg_rating_of_driver))"
   ]
  },
  {
   "cell_type": "code",
   "execution_count": 449,
   "metadata": {},
   "outputs": [],
   "source": [
    "X1 = np.nan_to_num(X1)\n",
    "scaler1 = MinMaxScaler()\n",
    "X1 = scaler1.fit_transform(X1)"
   ]
  },
  {
   "cell_type": "code",
   "execution_count": 450,
   "metadata": {},
   "outputs": [],
   "source": [
    "X2 = np.column_stack((f_avg_dist, f_surge_pct, f_weekday_pct))\n",
    "X2 = np.nan_to_num(X2)\n",
    "scaler2 = MinMaxScaler()\n",
    "X2 = scaler2.fit_transform(X2)"
   ]
  },
  {
   "cell_type": "code",
   "execution_count": 451,
   "metadata": {},
   "outputs": [],
   "source": [
    "y = f_duration_by_last_trip >=150\n",
    "y = y*1"
   ]
  },
  {
   "cell_type": "code",
   "execution_count": 452,
   "metadata": {},
   "outputs": [],
   "source": [
    "ind = np.arange(X.shape[0])\n",
    "np.random.shuffle(ind)\n",
    "\n",
    "train_size = 35000\n",
    "X1_train = X1[ind][0:train_size]\n",
    "X1_test = X1[ind][train_size:]\n",
    "\n",
    "X2_train = X2[ind][0:train_size]\n",
    "X2_test = X2[ind][train_size:]\n",
    "\n",
    "y_train = y[ind][0:train_size]\n",
    "y_test = y[ind][train_size:]"
   ]
  },
  {
   "cell_type": "markdown",
   "metadata": {},
   "source": [
    "## Building the predictive model"
   ]
  },
  {
   "cell_type": "markdown",
   "metadata": {},
   "source": [
    "We use the Keras Sequential model as our classifier to predict whether or not a user will be active."
   ]
  },
  {
   "cell_type": "code",
   "execution_count": 453,
   "metadata": {},
   "outputs": [],
   "source": [
    "from keras.layers import Dense\n",
    "from keras.models import Sequential\n",
    "\n",
    "k_clf1 = Sequential()\n",
    "k_clf1.add(Dense(100, activation='relu'))\n",
    "k_clf1.add(Dense(100, activation='relu'))\n",
    "k_clf1.add(Dense(1, activation='sigmoid'))\n",
    "k_clf1.compile(optimizer='rmsprop', loss='binary_crossentropy', metrics=['accuracy'])"
   ]
  },
  {
   "cell_type": "code",
   "execution_count": 454,
   "metadata": {},
   "outputs": [
    {
     "name": "stdout",
     "output_type": "stream",
     "text": [
      "Train on 28000 samples, validate on 7000 samples\n",
      "Epoch 1/30\n",
      " - 1s - loss: 0.5208 - acc: 0.7522 - val_loss: 0.5139 - val_acc: 0.7511\n",
      "Epoch 2/30\n",
      " - 0s - loss: 0.4978 - acc: 0.7593 - val_loss: 0.4941 - val_acc: 0.7617\n",
      "Epoch 3/30\n",
      " - 0s - loss: 0.4910 - acc: 0.7633 - val_loss: 0.4897 - val_acc: 0.7614\n",
      "Epoch 4/30\n",
      " - 0s - loss: 0.4857 - acc: 0.7653 - val_loss: 0.4871 - val_acc: 0.7630\n",
      "Epoch 5/30\n",
      " - 0s - loss: 0.4822 - acc: 0.7689 - val_loss: 0.4858 - val_acc: 0.7690\n",
      "Epoch 6/30\n",
      " - 0s - loss: 0.4801 - acc: 0.7710 - val_loss: 0.4894 - val_acc: 0.7627\n",
      "Epoch 7/30\n",
      " - 0s - loss: 0.4778 - acc: 0.7725 - val_loss: 0.4823 - val_acc: 0.7716\n",
      "Epoch 8/30\n",
      " - 0s - loss: 0.4771 - acc: 0.7710 - val_loss: 0.4790 - val_acc: 0.7690\n",
      "Epoch 9/30\n",
      " - 0s - loss: 0.4759 - acc: 0.7725 - val_loss: 0.4801 - val_acc: 0.7706\n",
      "Epoch 10/30\n",
      " - 0s - loss: 0.4751 - acc: 0.7755 - val_loss: 0.4770 - val_acc: 0.7760\n",
      "Epoch 11/30\n",
      " - 0s - loss: 0.4738 - acc: 0.7740 - val_loss: 0.4791 - val_acc: 0.7701\n",
      "Epoch 12/30\n",
      " - 0s - loss: 0.4728 - acc: 0.7764 - val_loss: 0.4765 - val_acc: 0.7760\n",
      "Epoch 13/30\n",
      " - 0s - loss: 0.4719 - acc: 0.7773 - val_loss: 0.4767 - val_acc: 0.7699\n",
      "Epoch 14/30\n",
      " - 0s - loss: 0.4724 - acc: 0.7766 - val_loss: 0.4752 - val_acc: 0.7731\n",
      "Epoch 15/30\n",
      " - 0s - loss: 0.4714 - acc: 0.7790 - val_loss: 0.4814 - val_acc: 0.7696\n",
      "Epoch 16/30\n",
      " - 0s - loss: 0.4712 - acc: 0.7776 - val_loss: 0.4763 - val_acc: 0.7714\n",
      "Epoch 17/30\n",
      " - 0s - loss: 0.4705 - acc: 0.7797 - val_loss: 0.4773 - val_acc: 0.7709\n",
      "Epoch 18/30\n",
      " - 1s - loss: 0.4704 - acc: 0.7782 - val_loss: 0.4763 - val_acc: 0.7757\n",
      "Epoch 19/30\n",
      " - 1s - loss: 0.4699 - acc: 0.7795 - val_loss: 0.4779 - val_acc: 0.7754\n",
      "Epoch 20/30\n",
      " - 1s - loss: 0.4697 - acc: 0.7800 - val_loss: 0.4757 - val_acc: 0.7759\n",
      "Epoch 21/30\n",
      " - 1s - loss: 0.4695 - acc: 0.7809 - val_loss: 0.4747 - val_acc: 0.7763\n",
      "Epoch 22/30\n",
      " - 1s - loss: 0.4689 - acc: 0.7805 - val_loss: 0.4811 - val_acc: 0.7737\n",
      "Epoch 23/30\n",
      " - 0s - loss: 0.4687 - acc: 0.7817 - val_loss: 0.4729 - val_acc: 0.7729\n",
      "Epoch 24/30\n",
      " - 1s - loss: 0.4679 - acc: 0.7791 - val_loss: 0.4737 - val_acc: 0.7727\n",
      "Epoch 25/30\n",
      " - 1s - loss: 0.4687 - acc: 0.7813 - val_loss: 0.4789 - val_acc: 0.7764\n",
      "Epoch 26/30\n",
      " - 1s - loss: 0.4681 - acc: 0.7817 - val_loss: 0.4733 - val_acc: 0.7764\n",
      "Epoch 27/30\n",
      " - 1s - loss: 0.4679 - acc: 0.7813 - val_loss: 0.4758 - val_acc: 0.7743\n",
      "Epoch 28/30\n",
      " - 0s - loss: 0.4673 - acc: 0.7810 - val_loss: 0.4759 - val_acc: 0.7731\n",
      "Epoch 29/30\n",
      " - 1s - loss: 0.4669 - acc: 0.7815 - val_loss: 0.4733 - val_acc: 0.7766\n",
      "Epoch 30/30\n",
      " - 0s - loss: 0.4672 - acc: 0.7804 - val_loss: 0.4745 - val_acc: 0.7791\n"
     ]
    }
   ],
   "source": [
    "history = k_clf1.fit(X1_train,y_train,epochs=30,batch_size=128,validation_split=0.2,verbose=2)"
   ]
  },
  {
   "cell_type": "code",
   "execution_count": 455,
   "metadata": {},
   "outputs": [],
   "source": [
    "y_predict1 = k_clf1.predict_classes(X1_test)"
   ]
  },
  {
   "cell_type": "code",
   "execution_count": 456,
   "metadata": {},
   "outputs": [
    {
     "data": {
      "text/plain": [
       "array([[10148,  1001],\n",
       "       [ 2343,  1508]])"
      ]
     },
     "execution_count": 456,
     "metadata": {},
     "output_type": "execute_result"
    }
   ],
   "source": [
    "confusion_matrix(y_test, y_predict1)"
   ]
  },
  {
   "cell_type": "code",
   "execution_count": 457,
   "metadata": {},
   "outputs": [
    {
     "name": "stdout",
     "output_type": "stream",
     "text": [
      "Classification report: \n",
      "              precision    recall  f1-score   support\n",
      "\n",
      "          0       0.81      0.91      0.86     11149\n",
      "          1       0.60      0.39      0.47      3851\n",
      "\n",
      "avg / total       0.76      0.78      0.76     15000\n",
      "\n",
      "F1 micro averaging: 0.7770666666666666\n"
     ]
    }
   ],
   "source": [
    "print (\"Classification report: \\n\", classification_report(y_test, y_predict1))\n",
    "print (\"F1 micro averaging:\",f1_score(y_test, y_predict1, average='micro'))"
   ]
  },
  {
   "cell_type": "code",
   "execution_count": 458,
   "metadata": {},
   "outputs": [
    {
     "name": "stdout",
     "output_type": "stream",
     "text": [
      "Train on 28000 samples, validate on 7000 samples\n",
      "Epoch 1/30\n",
      " - 1s - loss: 0.5358 - acc: 0.7473 - val_loss: 0.5177 - val_acc: 0.7446\n",
      "Epoch 2/30\n",
      " - 0s - loss: 0.5064 - acc: 0.7499 - val_loss: 0.5034 - val_acc: 0.7549\n",
      "Epoch 3/30\n",
      " - 0s - loss: 0.4967 - acc: 0.7641 - val_loss: 0.4991 - val_acc: 0.7599\n",
      "Epoch 4/30\n",
      " - 0s - loss: 0.4930 - acc: 0.7692 - val_loss: 0.4963 - val_acc: 0.7634\n",
      "Epoch 5/30\n",
      " - 0s - loss: 0.4908 - acc: 0.7733 - val_loss: 0.4931 - val_acc: 0.7684\n",
      "Epoch 6/30\n",
      " - 0s - loss: 0.4895 - acc: 0.7741 - val_loss: 0.4924 - val_acc: 0.7693\n",
      "Epoch 7/30\n",
      " - 1s - loss: 0.4887 - acc: 0.7752 - val_loss: 0.4910 - val_acc: 0.7707\n",
      "Epoch 8/30\n",
      " - 1s - loss: 0.4874 - acc: 0.7747 - val_loss: 0.4929 - val_acc: 0.7683\n",
      "Epoch 9/30\n",
      " - 1s - loss: 0.4867 - acc: 0.7749 - val_loss: 0.4905 - val_acc: 0.7750\n",
      "Epoch 10/30\n",
      " - 1s - loss: 0.4863 - acc: 0.7755 - val_loss: 0.4901 - val_acc: 0.7697\n",
      "Epoch 11/30\n",
      " - 1s - loss: 0.4859 - acc: 0.7763 - val_loss: 0.4920 - val_acc: 0.7684\n",
      "Epoch 12/30\n",
      " - 1s - loss: 0.4858 - acc: 0.7779 - val_loss: 0.4900 - val_acc: 0.7734\n",
      "Epoch 13/30\n",
      " - 0s - loss: 0.4854 - acc: 0.7771 - val_loss: 0.4885 - val_acc: 0.7727\n",
      "Epoch 14/30\n",
      " - 1s - loss: 0.4851 - acc: 0.7775 - val_loss: 0.4880 - val_acc: 0.7720\n",
      "Epoch 15/30\n",
      " - 1s - loss: 0.4849 - acc: 0.7773 - val_loss: 0.4885 - val_acc: 0.7731\n",
      "Epoch 16/30\n",
      " - 1s - loss: 0.4845 - acc: 0.7775 - val_loss: 0.4895 - val_acc: 0.7741\n",
      "Epoch 17/30\n",
      " - 1s - loss: 0.4847 - acc: 0.7779 - val_loss: 0.4883 - val_acc: 0.7716\n",
      "Epoch 18/30\n",
      " - 0s - loss: 0.4840 - acc: 0.7771 - val_loss: 0.4883 - val_acc: 0.7721\n",
      "Epoch 19/30\n",
      " - 0s - loss: 0.4840 - acc: 0.7784 - val_loss: 0.4880 - val_acc: 0.7714\n",
      "Epoch 20/30\n",
      " - 0s - loss: 0.4838 - acc: 0.7782 - val_loss: 0.4871 - val_acc: 0.7716\n",
      "Epoch 21/30\n",
      " - 1s - loss: 0.4834 - acc: 0.7773 - val_loss: 0.4877 - val_acc: 0.7721\n",
      "Epoch 22/30\n",
      " - 1s - loss: 0.4835 - acc: 0.7778 - val_loss: 0.4935 - val_acc: 0.7697\n",
      "Epoch 23/30\n",
      " - 1s - loss: 0.4832 - acc: 0.7785 - val_loss: 0.4880 - val_acc: 0.7751\n",
      "Epoch 24/30\n",
      " - 0s - loss: 0.4835 - acc: 0.7782 - val_loss: 0.4881 - val_acc: 0.7733\n",
      "Epoch 25/30\n",
      " - 1s - loss: 0.4827 - acc: 0.7780 - val_loss: 0.4906 - val_acc: 0.7740\n",
      "Epoch 26/30\n",
      " - 0s - loss: 0.4830 - acc: 0.7780 - val_loss: 0.4951 - val_acc: 0.7707\n",
      "Epoch 27/30\n",
      " - 0s - loss: 0.4827 - acc: 0.7794 - val_loss: 0.4869 - val_acc: 0.7733\n",
      "Epoch 28/30\n",
      " - 0s - loss: 0.4824 - acc: 0.7791 - val_loss: 0.4862 - val_acc: 0.7721\n",
      "Epoch 29/30\n",
      " - 0s - loss: 0.4826 - acc: 0.7778 - val_loss: 0.4877 - val_acc: 0.7734\n",
      "Epoch 30/30\n",
      " - 0s - loss: 0.4827 - acc: 0.7772 - val_loss: 0.4874 - val_acc: 0.7740\n"
     ]
    }
   ],
   "source": [
    "k_clf2 = Sequential()\n",
    "k_clf2.add(Dense(100, activation='relu'))\n",
    "k_clf2.add(Dense(100, activation='relu'))\n",
    "k_clf2.add(Dense(1, activation='sigmoid'))\n",
    "k_clf2.compile(optimizer='rmsprop', loss='binary_crossentropy', metrics=['accuracy'])\n",
    "history2 = k_clf2.fit(X2_train,y_train,epochs=30,batch_size=128,validation_split=0.2,verbose=2)"
   ]
  },
  {
   "cell_type": "code",
   "execution_count": 459,
   "metadata": {},
   "outputs": [],
   "source": [
    "y_predict2 = k_clf2.predict_classes(X2_test)"
   ]
  },
  {
   "cell_type": "code",
   "execution_count": 460,
   "metadata": {},
   "outputs": [
    {
     "name": "stdout",
     "output_type": "stream",
     "text": [
      "Classification report: \n",
      "              precision    recall  f1-score   support\n",
      "\n",
      "          0       0.80      0.92      0.86     11149\n",
      "          1       0.60      0.34      0.43      3851\n",
      "\n",
      "avg / total       0.75      0.77      0.75     15000\n",
      "\n",
      "F1 micro averaging: 0.7720666666666667\n"
     ]
    }
   ],
   "source": [
    "print (\"Classification report: \\n\", classification_report(y_test, y_predict2))\n",
    "print (\"F1 micro averaging:\",f1_score(y_test, y_predict2, average='micro'))"
   ]
  },
  {
   "cell_type": "markdown",
   "metadata": {},
   "source": [
    "The two models above have similar performance, both have near 0.77 F1 micro score, not so bad.\n",
    "\n",
    "Comparing the predictive features of the two smiliar models, we know the 'avg_dist', 'surge_pct' and 'weekday_pct' have most contribution to the predict results. Then Ultimate may consider how to motivate users with more 'avg_dist', 'surge_pct' and 'weekday_pct'.   "
   ]
  },
  {
   "cell_type": "code",
   "execution_count": null,
   "metadata": {},
   "outputs": [],
   "source": []
  }
 ],
 "metadata": {
  "kernelspec": {
   "display_name": "Python 3",
   "language": "python",
   "name": "python3"
  },
  "language_info": {
   "codemirror_mode": {
    "name": "ipython",
    "version": 3
   },
   "file_extension": ".py",
   "mimetype": "text/x-python",
   "name": "python",
   "nbconvert_exporter": "python",
   "pygments_lexer": "ipython3",
   "version": "3.6.4"
  }
 },
 "nbformat": 4,
 "nbformat_minor": 2
}
